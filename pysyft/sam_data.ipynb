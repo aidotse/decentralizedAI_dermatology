{
 "cells": [
  {
   "cell_type": "markdown",
   "metadata": {},
   "source": [
    "# ISIC DATASET"
   ]
  },
  {
   "cell_type": "code",
   "execution_count": 2,
   "metadata": {},
   "outputs": [
    {
     "name": "stdout",
     "output_type": "stream",
     "text": [
      "cuda\n"
     ]
    }
   ],
   "source": [
    "import syft as sy\n",
    "import torch \n",
    "import numpy as np\n",
    "import pandas as pd\n",
    "import os, sys\n",
    "\n",
    "sys.path.append('/workspace/stylegan2-ada-pytorch')\n",
    "\n",
    "from melanoma_cnn_efficientnet import CustomDataset, seed_everything, train_test_split, training_transforms, testing_transforms, create_split"
   ]
  },
  {
   "cell_type": "code",
   "execution_count": null,
   "metadata": {},
   "outputs": [],
   "source": [
    "# Launch a Duet server \n",
    "duet = sy.launch_duet(loopback=True)"
   ]
  },
  {
   "cell_type": "code",
   "execution_count": null,
   "metadata": {},
   "outputs": [],
   "source": [
    "\n",
    "# TODO Create SAM dataset \n"
   ]
  },
  {
   "cell_type": "code",
   "execution_count": null,
   "metadata": {},
   "outputs": [],
   "source": [
    "\n",
    "# Data owner adds a description to the tensor where data is located\n",
    "train_df = train_df.describe(\"This is a dataset of melanomas in situ / invasive.\")\n",
    "\n",
    "# Finally the data owner UPLOADS THE DATA to the Duet server and makes it searchable\n",
    "# by data scientists. NOTE: The data is still on the Data Owners machine and cannot be\n",
    "# viewed or retrieved by any Data Scientists without permission.\n",
    "data_train_pointer = train_df.send(duet, pointable=True)\n",
    "data_val_pointer = validation_df.send(duet, pointable=True)\n"
   ]
  },
  {
   "cell_type": "code",
   "execution_count": null,
   "metadata": {},
   "outputs": [],
   "source": [
    "\n",
    "# Once uploaded, the data owner can see the object stored in the tensor\n",
    "duet.store\n",
    "\n",
    "# To see it in a human-readable format, data owner can also pretty-print the tensor information\n",
    "duet.store.pandas"
   ]
  },
  {
   "cell_type": "code",
   "execution_count": null,
   "metadata": {},
   "outputs": [],
   "source": [
    "# To check if there is a request from the Data Scientist, the data owner runs this command occasionally\n",
    "# or when there is a notification of new request in the DUET LIVE STATUS\n",
    "duet.requests.pandas\n",
    "# The request looks reasonable. Should be accepted :)\n",
    "duet.requests[0].accept()\n"
   ]
  },
  {
   "cell_type": "code",
   "execution_count": null,
   "metadata": {},
   "outputs": [],
   "source": [
    "\n",
    "# You can automatically accept or deny requests, which is great for testing.\n",
    "# We have more advanced handlers coming soon.\n",
    "duet.requests.add_handler(action=\"accept\")"
   ]
  }
 ],
 "metadata": {
  "interpreter": {
   "hash": "d4d1e4263499bec80672ea0156c357c1ee493ec2b1c70f0acce89fc37c4a6abe"
  },
  "kernelspec": {
   "display_name": "Python 3.8.5 64-bit ('base': conda)",
   "language": "python",
   "name": "python3"
  },
  "language_info": {
   "codemirror_mode": {
    "name": "ipython",
    "version": 3
   },
   "file_extension": ".py",
   "mimetype": "text/x-python",
   "name": "python",
   "nbconvert_exporter": "python",
   "pygments_lexer": "ipython3",
   "version": "3.8.5"
  },
  "orig_nbformat": 4
 },
 "nbformat": 4,
 "nbformat_minor": 2
}
